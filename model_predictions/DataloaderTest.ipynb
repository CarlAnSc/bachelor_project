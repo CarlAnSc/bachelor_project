{
 "cells": [
  {
   "cell_type": "code",
   "execution_count": 20,
   "metadata": {},
   "outputs": [],
   "source": [
    "import matplotlib.pyplot as plt\n",
    "import numpy as np\n",
    "import pandas as pd\n",
    "import torch\n",
    "\n",
    "from torchvision.models import ResNet18_Weights, resnet18\n",
    "from tqdm.notebook import tqdm_notebook\n",
    "from torchvision import datasets, transforms\n",
    "\n",
    "from src.imagenet_x.evaluate import ImageNetX, get_vanilla_transform, ImageNetXImageFolder, load_annotations\n",
    "from src.imagenet_x import FACTORS, plots"
   ]
  },
  {
   "cell_type": "code",
   "execution_count": 7,
   "metadata": {},
   "outputs": [],
   "source": [
    "imagenet_val_path = '../data/ImageNetVal'\n",
    "transforms = get_vanilla_transform()\n",
    "dataset = ImageNetX(imagenet_val_path, which_factor='top', partition='val', transform=transforms, filter_prototypes=False)    "
   ]
  },
  {
   "cell_type": "code",
   "execution_count": 18,
   "metadata": {},
   "outputs": [
    {
     "data": {
      "text/plain": [
       "Dataset BachelorDataFolder\n",
       "    Number of datapoints: 50200\n",
       "    Root location: ../data/ImageNetVal"
      ]
     },
     "execution_count": 18,
     "metadata": {},
     "output_type": "execute_result"
    }
   ],
   "source": [
    "class BachelorDataFolder(datasets.ImageFolder):\n",
    "    \n",
    "    def __init__(self, folder_path, *args, **kwargs):\n",
    "        super().__init__(folder_path, *args, **kwargs)\n",
    "\n",
    "\n",
    "BachelorDataFolder(imagenet_val_path)\n"
   ]
  },
  {
   "cell_type": "code",
   "execution_count": 146,
   "metadata": {},
   "outputs": [],
   "source": []
  },
  {
   "cell_type": "code",
   "execution_count": 147,
   "metadata": {},
   "outputs": [],
   "source": [
    "#rows with errors:\n",
    "#17758\n",
    "#29800 \n",
    "df = load_annotations(filter_prototypes=False)\n",
    "df = df.drop([17758, 29800]).reset_index(drop=True)\n",
    "df_filenames = pd.DataFrame(df['file_name'])\n",
    "df3 = df.drop(columns=['class', 'justification', 'one_word', 'metaclass'])"
   ]
  },
  {
   "cell_type": "code",
   "execution_count": 148,
   "metadata": {},
   "outputs": [
    {
     "data": {
      "text/plain": [
       "(48866, 1)"
      ]
     },
     "execution_count": 148,
     "metadata": {},
     "output_type": "execute_result"
    }
   ],
   "source": [
    "df_filenames.shape"
   ]
  },
  {
   "cell_type": "code",
   "execution_count": 149,
   "metadata": {},
   "outputs": [],
   "source": [
    "df4 = pd.from_dummies(df3.drop(columns=['file_name']))"
   ]
  },
  {
   "cell_type": "code",
   "execution_count": 160,
   "metadata": {},
   "outputs": [],
   "source": [
    "df5 = df_filenames.join(df4)"
   ]
  },
  {
   "cell_type": "code",
   "execution_count": 161,
   "metadata": {},
   "outputs": [],
   "source": [
    "df5.columns = ['file_name','class']"
   ]
  },
  {
   "cell_type": "code",
   "execution_count": 166,
   "metadata": {},
   "outputs": [
    {
     "data": {
      "text/plain": [
       "(48866, 2)"
      ]
     },
     "execution_count": 166,
     "metadata": {},
     "output_type": "execute_result"
    }
   ],
   "source": [
    "df5.shape"
   ]
  },
  {
   "cell_type": "code",
   "execution_count": 167,
   "metadata": {},
   "outputs": [
    {
     "data": {
      "text/html": [
       "<div>\n",
       "<style scoped>\n",
       "    .dataframe tbody tr th:only-of-type {\n",
       "        vertical-align: middle;\n",
       "    }\n",
       "\n",
       "    .dataframe tbody tr th {\n",
       "        vertical-align: top;\n",
       "    }\n",
       "\n",
       "    .dataframe thead th {\n",
       "        text-align: right;\n",
       "    }\n",
       "</style>\n",
       "<table border=\"1\" class=\"dataframe\">\n",
       "  <thead>\n",
       "    <tr style=\"text-align: right;\">\n",
       "      <th></th>\n",
       "      <th>file_name</th>\n",
       "      <th>class</th>\n",
       "    </tr>\n",
       "  </thead>\n",
       "  <tbody>\n",
       "    <tr>\n",
       "      <th>0</th>\n",
       "      <td>ILSVRC2012_val_00004487.JPEG</td>\n",
       "      <td>larger</td>\n",
       "    </tr>\n",
       "    <tr>\n",
       "      <th>1</th>\n",
       "      <td>ILSVRC2012_val_00003963.JPEG</td>\n",
       "      <td>color</td>\n",
       "    </tr>\n",
       "    <tr>\n",
       "      <th>2</th>\n",
       "      <td>ILSVRC2012_val_00041992.JPEG</td>\n",
       "      <td>pose</td>\n",
       "    </tr>\n",
       "    <tr>\n",
       "      <th>3</th>\n",
       "      <td>ILSVRC2012_val_00028056.JPEG</td>\n",
       "      <td>pattern</td>\n",
       "    </tr>\n",
       "    <tr>\n",
       "      <th>4</th>\n",
       "      <td>ILSVRC2012_val_00016832.JPEG</td>\n",
       "      <td>darker</td>\n",
       "    </tr>\n",
       "    <tr>\n",
       "      <th>...</th>\n",
       "      <td>...</td>\n",
       "      <td>...</td>\n",
       "    </tr>\n",
       "    <tr>\n",
       "      <th>48861</th>\n",
       "      <td>ILSVRC2012_val_00004973.JPEG</td>\n",
       "      <td>color</td>\n",
       "    </tr>\n",
       "    <tr>\n",
       "      <th>48862</th>\n",
       "      <td>ILSVRC2012_val_00038750.JPEG</td>\n",
       "      <td>background</td>\n",
       "    </tr>\n",
       "    <tr>\n",
       "      <th>48863</th>\n",
       "      <td>ILSVRC2012_val_00043497.JPEG</td>\n",
       "      <td>color</td>\n",
       "    </tr>\n",
       "    <tr>\n",
       "      <th>48864</th>\n",
       "      <td>ILSVRC2012_val_00005859.JPEG</td>\n",
       "      <td>pattern</td>\n",
       "    </tr>\n",
       "    <tr>\n",
       "      <th>48865</th>\n",
       "      <td>ILSVRC2012_val_00005939.JPEG</td>\n",
       "      <td>pattern</td>\n",
       "    </tr>\n",
       "  </tbody>\n",
       "</table>\n",
       "<p>48866 rows × 2 columns</p>\n",
       "</div>"
      ],
      "text/plain": [
       "                          file_name       class\n",
       "0      ILSVRC2012_val_00004487.JPEG      larger\n",
       "1      ILSVRC2012_val_00003963.JPEG       color\n",
       "2      ILSVRC2012_val_00041992.JPEG        pose\n",
       "3      ILSVRC2012_val_00028056.JPEG     pattern\n",
       "4      ILSVRC2012_val_00016832.JPEG      darker\n",
       "...                             ...         ...\n",
       "48861  ILSVRC2012_val_00004973.JPEG       color\n",
       "48862  ILSVRC2012_val_00038750.JPEG  background\n",
       "48863  ILSVRC2012_val_00043497.JPEG       color\n",
       "48864  ILSVRC2012_val_00005859.JPEG     pattern\n",
       "48865  ILSVRC2012_val_00005939.JPEG     pattern\n",
       "\n",
       "[48866 rows x 2 columns]"
      ]
     },
     "execution_count": 167,
     "metadata": {},
     "output_type": "execute_result"
    }
   ],
   "source": [
    "df5"
   ]
  }
 ],
 "metadata": {
  "kernelspec": {
   "display_name": "bach",
   "language": "python",
   "name": "python3"
  },
  "language_info": {
   "codemirror_mode": {
    "name": "ipython",
    "version": 3
   },
   "file_extension": ".py",
   "mimetype": "text/x-python",
   "name": "python",
   "nbconvert_exporter": "python",
   "pygments_lexer": "ipython3",
   "version": "3.10.0"
  },
  "orig_nbformat": 4,
  "vscode": {
   "interpreter": {
    "hash": "63bf4a2e714c5d2a8e21b4f97272abe1afd0174d0ce7a0dfa9494a2e2462b645"
   }
  }
 },
 "nbformat": 4,
 "nbformat_minor": 2
}
