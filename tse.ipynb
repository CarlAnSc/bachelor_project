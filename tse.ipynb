{
 "cells": [
  {
   "cell_type": "code",
   "execution_count": 14,
   "metadata": {},
   "outputs": [
    {
     "data": {
      "text/plain": [
       "<AxesSubplot: >"
      ]
     },
     "execution_count": 14,
     "metadata": {},
     "output_type": "execute_result"
    },
    {
     "data": {
      "image/png": "[encoded data removed]",
      "text/plain": [
       "<Figure size 640x480 with 2 Axes>"
      ]
     },
     "metadata": {},
     "output_type": "display_data"
    }
   ],
   "source": [
    "import seaborn as sns \n",
    "import numpy as np\n",
    "\n",
    "sns.heatmap(np.array([[0,1],[32,2]]) , xticklabels=['oiawegiaewng', 'aiwge'])\n"
   ]
  },
  {
   "cell_type": "code",
   "execution_count": 13,
   "metadata": {},
   "outputs": [
    {
     "data": {
      "text/plain": [
       "{'background',\n",
       " 'brighter',\n",
       " 'color',\n",
       " 'darker',\n",
       " 'larger',\n",
       " 'multiple_objects',\n",
       " 'object_blocking',\n",
       " 'partial_view',\n",
       " 'pattern',\n",
       " 'person_blocking',\n",
       " 'pose',\n",
       " 'shape',\n",
       " 'smaller',\n",
       " 'style',\n",
       " 'subcategory',\n",
       " 'texture'}"
      ]
     },
     "execution_count": 13,
     "metadata": {},
     "output_type": "execute_result"
    }
   ],
   "source": [
    "class_to_idx\n"
   ]
  },
  {
   "cell_type": "code",
   "execution_count": null,
   "metadata": {},
   "outputs": [],
   "source": []
  }
 ],
 "metadata": {
  "kernelspec": {
   "display_name": "bach",
   "language": "python",
   "name": "python3"
  },
  "language_info": {
   "codemirror_mode": {
    "name": "ipython",
    "version": 3
   },
   "file_extension": ".py",
   "mimetype": "text/x-python",
   "name": "python",
   "nbconvert_exporter": "python",
   "pygments_lexer": "ipython3",
   "version": "3.10.9"
  },
  "orig_nbformat": 4,
  "vscode": {
   "interpreter": {
    "hash": "63bf4a2e714c5d2a8e21b4f97272abe1afd0174d0ce7a0dfa9494a2e2462b645"
   }
  }
 },
 "nbformat": 4,
 "nbformat_minor": 2
}
