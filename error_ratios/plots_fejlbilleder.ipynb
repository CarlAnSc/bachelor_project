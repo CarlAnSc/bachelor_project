{
 "cells": [
  {
   "cell_type": "code",
   "execution_count": 2,
   "metadata": {},
   "outputs": [],
   "source": [
    "import matplotlib.pyplot as plt\n",
    "import numpy as np\n",
    "import pandas as pd\n",
    "import seaborn as sns\n",
    "from src.imagenet_x import get_factor_accuracies, error_ratio\n",
    "from src.imagenet_x.utils import load_model_predictions, get_annotation_path\n",
    "from src.imagenet_x import plots\n",
    "from src.imagenet_x.evaluate import ImageNetX, get_vanilla_transform, ImageNetXImageFolder, load_annotations\n",
    "import os\n",
    "import pickle\n",
    "from pathlib import Path"
   ]
  },
  {
   "cell_type": "code",
   "execution_count": null,
   "metadata": {},
   "outputs": [],
   "source": [
    "df1 = pd.read_csv('../metalabel_objectivity/val_imgs_df.csv')\n",
    "\n",
    "root = \"../data/ImageNetVal/\"\n",
    "\n",
    "l1 = {}\n",
    "for path, subdirs, files in os.walk(root):\n",
    "    for name in files:\n",
    "        l1[name] = os.path.join(path, name)\n",
    "\n",
    "df1['path'] = df1['file_name'].apply(lambda x: l1[x])\n",
    "\n",
    "\n",
    "samples = df1.sample(100, random_state = 420)\n",
    "\n",
    "samplescols = samples.columns[1:17]\n",
    "k = samples.iloc[:, 1:17].values\n",
    "samples_labels = []\n",
    "l1 = []\n",
    "for item in k:\n",
    "    l1 = []\n",
    "    for i, thing in enumerate(item):\n",
    "        if thing == 1:\n",
    "            l1.append(samplescols[i])\n",
    "    samples_labels.append(l1)\n",
    "\n",
    "samples['labels'] = samples_labels\n",
    "\n",
    "proto_df = pd.read_csv('../data/annotations/prototypical_paths.csv')\n",
    "proto_df = proto_df.merge(df1, on='file_name', how='inner')\n",
    "\n",
    "def plot_samples(which_sample):\n",
    "    samples_proto = proto_df[proto_df['label'] == samples.iloc[which_sample]['label']]\n",
    "    #  plot 6 in a grid with matplotlib cropping them\n",
    "    fig, ax = plt.subplots(1, 4, figsize=(20, 10))\n",
    "    img = plt.imread(samples.iloc[which_sample]['path'])\n",
    "    ax[0].imshow(img)\n",
    "    ax[0].set_title(samples.iloc[which_sample]['labels'], fontsize=22)\n",
    "    props = dict(boxstyle='round', facecolor='cyan', alpha=0.6)\n",
    "    ax[0].text(0.05, 0.95, samples.iloc[which_sample]['str_label'], transform=ax[0].transAxes, fontsize=22,\n",
    "        verticalalignment='top', bbox=props)\n",
    "    ax[0].axis('off')\n",
    "\n",
    "    for i,row in enumerate(samples_proto.iterrows()):\n",
    "        img = plt.imread(row[1]['path'])\n",
    "        ax[i+1].imshow(img)\n",
    "        ax[i+1].axis('off')\n",
    "    fig.tight_layout()\n",
    "\n",
    "for i in range(len(samples)):\n",
    "    plot_samples(i)"
   ]
  }
 ],
 "metadata": {
  "kernelspec": {
   "display_name": "bach",
   "language": "python",
   "name": "python3"
  },
  "language_info": {
   "codemirror_mode": {
    "name": "ipython",
    "version": 3
   },
   "file_extension": ".py",
   "mimetype": "text/x-python",
   "name": "python",
   "nbconvert_exporter": "python",
   "pygments_lexer": "ipython3",
   "version": "3.10.0"
  },
  "orig_nbformat": 4
 },
 "nbformat": 4,
 "nbformat_minor": 2
}
